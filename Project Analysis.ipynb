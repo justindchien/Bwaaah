{
 "cells": [
  {
   "cell_type": "code",
   "execution_count": 1,
   "metadata": {
    "collapsed": true
   },
   "outputs": [],
   "source": [
    "import numpy as np\n",
    "import matplotlib.pyplot as plt\n",
    "import pandas as pd\n",
    "from sklearn.cross_validation import train_test_split\n",
    "from sklearn import linear_model, ensemble, cross_validation, grid_search\n",
    "import numpy as np\n",
    "from sklearn.ensemble import RandomForestRegressor, GradientBoostingRegressor\n",
    "from sklearn.linear_model import LinearRegression\n",
    "\n",
    "%matplotlib inline"
   ]
  },
  {
   "cell_type": "markdown",
   "metadata": {},
   "source": [
    "## Importing and Exploring Dataset"
   ]
  },
  {
   "cell_type": "code",
   "execution_count": 2,
   "metadata": {
    "collapsed": false
   },
   "outputs": [
    {
     "name": "stdout",
     "output_type": "stream",
     "text": [
      "<class 'pandas.core.frame.DataFrame'>\n",
      "RangeIndex: 2097 entries, 0 to 2096\n",
      "Data columns (total 10 columns):\n",
      "adj_rank           212 non-null float64\n",
      "budget             1612 non-null float64\n",
      "composer           2097 non-null object\n",
      "domestic_rank      2083 non-null float64\n",
      "dom_total_gross    2097 non-null float64\n",
      "movie_title        2096 non-null object\n",
      "runtime            2096 non-null float64\n",
      "year               2097 non-null int64\n",
      "yearly_rank        1546 non-null float64\n",
      "top_5              2097 non-null int64\n",
      "dtypes: float64(6), int64(2), object(2)\n",
      "memory usage: 163.9+ KB\n"
     ]
    }
   ],
   "source": [
    "full_df = pd.read_csv('clean_movie_data.csv', sep = \"\\t\")\n",
    "full_df = full_df.drop('Unnamed: 0', axis = 1)\n",
    "full_df.dom_total_gross = full_df.dom_total_gross/1000000\n",
    "full_df.budget = full_df.budget/1000000\n",
    "full_df.info()"
   ]
  },
  {
   "cell_type": "code",
   "execution_count": 71,
   "metadata": {
    "collapsed": false,
    "scrolled": false
   },
   "outputs": [
    {
     "data": {
      "text/html": [
       "<div>\n",
       "<table border=\"1\" class=\"dataframe\">\n",
       "  <thead>\n",
       "    <tr style=\"text-align: right;\">\n",
       "      <th></th>\n",
       "      <th>adj_rank</th>\n",
       "      <th>budget</th>\n",
       "      <th>domestic_rank</th>\n",
       "      <th>dom_total_gross</th>\n",
       "      <th>runtime</th>\n",
       "      <th>year</th>\n",
       "      <th>yearly_rank</th>\n",
       "      <th>top_5</th>\n",
       "    </tr>\n",
       "  </thead>\n",
       "  <tbody>\n",
       "    <tr>\n",
       "      <th>count</th>\n",
       "      <td>212.000000</td>\n",
       "      <td>1612.000000</td>\n",
       "      <td>2083.000000</td>\n",
       "      <td>2097.000000</td>\n",
       "      <td>2096.000000</td>\n",
       "      <td>2097.000000</td>\n",
       "      <td>1546.000000</td>\n",
       "      <td>2097.000000</td>\n",
       "    </tr>\n",
       "    <tr>\n",
       "      <th>mean</th>\n",
       "      <td>113.297170</td>\n",
       "      <td>62.390679</td>\n",
       "      <td>1496.072492</td>\n",
       "      <td>82.654388</td>\n",
       "      <td>109.479962</td>\n",
       "      <td>2005.978541</td>\n",
       "      <td>53.565330</td>\n",
       "      <td>0.113019</td>\n",
       "    </tr>\n",
       "    <tr>\n",
       "      <th>std</th>\n",
       "      <td>57.027485</td>\n",
       "      <td>49.923478</td>\n",
       "      <td>1057.413200</td>\n",
       "      <td>81.767320</td>\n",
       "      <td>19.634624</td>\n",
       "      <td>6.122713</td>\n",
       "      <td>33.673282</td>\n",
       "      <td>0.316691</td>\n",
       "    </tr>\n",
       "    <tr>\n",
       "      <th>min</th>\n",
       "      <td>2.000000</td>\n",
       "      <td>0.015000</td>\n",
       "      <td>1.000000</td>\n",
       "      <td>1.646788</td>\n",
       "      <td>38.000000</td>\n",
       "      <td>1977.000000</td>\n",
       "      <td>1.000000</td>\n",
       "      <td>0.000000</td>\n",
       "    </tr>\n",
       "    <tr>\n",
       "      <th>25%</th>\n",
       "      <td>66.750000</td>\n",
       "      <td>25.000000</td>\n",
       "      <td>650.500000</td>\n",
       "      <td>34.562556</td>\n",
       "      <td>95.000000</td>\n",
       "      <td>2001.000000</td>\n",
       "      <td>26.000000</td>\n",
       "      <td>0.000000</td>\n",
       "    </tr>\n",
       "    <tr>\n",
       "      <th>50%</th>\n",
       "      <td>116.500000</td>\n",
       "      <td>50.000000</td>\n",
       "      <td>1379.000000</td>\n",
       "      <td>55.041738</td>\n",
       "      <td>107.000000</td>\n",
       "      <td>2006.000000</td>\n",
       "      <td>52.000000</td>\n",
       "      <td>0.000000</td>\n",
       "    </tr>\n",
       "    <tr>\n",
       "      <th>75%</th>\n",
       "      <td>164.250000</td>\n",
       "      <td>83.250000</td>\n",
       "      <td>2193.500000</td>\n",
       "      <td>100.317794</td>\n",
       "      <td>120.000000</td>\n",
       "      <td>2011.000000</td>\n",
       "      <td>78.000000</td>\n",
       "      <td>0.000000</td>\n",
       "    </tr>\n",
       "    <tr>\n",
       "      <th>max</th>\n",
       "      <td>200.000000</td>\n",
       "      <td>300.000000</td>\n",
       "      <td>6574.000000</td>\n",
       "      <td>936.662225</td>\n",
       "      <td>206.000000</td>\n",
       "      <td>2016.000000</td>\n",
       "      <td>204.000000</td>\n",
       "      <td>1.000000</td>\n",
       "    </tr>\n",
       "  </tbody>\n",
       "</table>\n",
       "</div>"
      ],
      "text/plain": [
       "         adj_rank       budget  domestic_rank  dom_total_gross      runtime  \\\n",
       "count  212.000000  1612.000000    2083.000000      2097.000000  2096.000000   \n",
       "mean   113.297170    62.390679    1496.072492        82.654388   109.479962   \n",
       "std     57.027485    49.923478    1057.413200        81.767320    19.634624   \n",
       "min      2.000000     0.015000       1.000000         1.646788    38.000000   \n",
       "25%     66.750000    25.000000     650.500000        34.562556    95.000000   \n",
       "50%    116.500000    50.000000    1379.000000        55.041738   107.000000   \n",
       "75%    164.250000    83.250000    2193.500000       100.317794   120.000000   \n",
       "max    200.000000   300.000000    6574.000000       936.662225   206.000000   \n",
       "\n",
       "              year  yearly_rank        top_5  \n",
       "count  2097.000000  1546.000000  2097.000000  \n",
       "mean   2005.978541    53.565330     0.113019  \n",
       "std       6.122713    33.673282     0.316691  \n",
       "min    1977.000000     1.000000     0.000000  \n",
       "25%    2001.000000    26.000000     0.000000  \n",
       "50%    2006.000000    52.000000     0.000000  \n",
       "75%    2011.000000    78.000000     0.000000  \n",
       "max    2016.000000   204.000000     1.000000  "
      ]
     },
     "execution_count": 71,
     "metadata": {},
     "output_type": "execute_result"
    }
   ],
   "source": [
    "full_df.describe()"
   ]
  },
  {
   "cell_type": "code",
   "execution_count": 5,
   "metadata": {
    "collapsed": false,
    "scrolled": true
   },
   "outputs": [
    {
     "data": {
      "text/html": [
       "<div>\n",
       "<table border=\"1\" class=\"dataframe\">\n",
       "  <thead>\n",
       "    <tr style=\"text-align: right;\">\n",
       "      <th></th>\n",
       "      <th>adj_rank</th>\n",
       "      <th>budget</th>\n",
       "      <th>domestic_rank</th>\n",
       "      <th>dom_total_gross</th>\n",
       "      <th>runtime</th>\n",
       "      <th>year</th>\n",
       "      <th>yearly_rank</th>\n",
       "      <th>top_5</th>\n",
       "    </tr>\n",
       "  </thead>\n",
       "  <tbody>\n",
       "    <tr>\n",
       "      <th>0</th>\n",
       "      <td>39.0</td>\n",
       "      <td>75.000</td>\n",
       "      <td>57.0</td>\n",
       "      <td>306.169268</td>\n",
       "      <td>153.0</td>\n",
       "      <td>1996</td>\n",
       "      <td>1.0</td>\n",
       "      <td>0</td>\n",
       "    </tr>\n",
       "    <tr>\n",
       "      <th>1</th>\n",
       "      <td>81.0</td>\n",
       "      <td>92.000</td>\n",
       "      <td>108.0</td>\n",
       "      <td>241.721524</td>\n",
       "      <td>113.0</td>\n",
       "      <td>1996</td>\n",
       "      <td>2.0</td>\n",
       "      <td>0</td>\n",
       "    </tr>\n",
       "    <tr>\n",
       "      <th>2</th>\n",
       "      <td>165.0</td>\n",
       "      <td>80.000</td>\n",
       "      <td>210.0</td>\n",
       "      <td>180.981856</td>\n",
       "      <td>110.0</td>\n",
       "      <td>1996</td>\n",
       "      <td>3.0</td>\n",
       "      <td>1</td>\n",
       "    </tr>\n",
       "    <tr>\n",
       "      <th>7</th>\n",
       "      <td>188.0</td>\n",
       "      <td>54.000</td>\n",
       "      <td>405.0</td>\n",
       "      <td>128.814019</td>\n",
       "      <td>103.0</td>\n",
       "      <td>1996</td>\n",
       "      <td>8.0</td>\n",
       "      <td>0</td>\n",
       "    </tr>\n",
       "    <tr>\n",
       "      <th>31</th>\n",
       "      <td>145.0</td>\n",
       "      <td>55.000</td>\n",
       "      <td>1536.0</td>\n",
       "      <td>50.047179</td>\n",
       "      <td>130.0</td>\n",
       "      <td>1996</td>\n",
       "      <td>32.0</td>\n",
       "      <td>0</td>\n",
       "    </tr>\n",
       "    <tr>\n",
       "      <th>100</th>\n",
       "      <td>5.0</td>\n",
       "      <td>200.000</td>\n",
       "      <td>3.0</td>\n",
       "      <td>658.672302</td>\n",
       "      <td>194.0</td>\n",
       "      <td>1997</td>\n",
       "      <td>1.0</td>\n",
       "      <td>0</td>\n",
       "    </tr>\n",
       "    <tr>\n",
       "      <th>101</th>\n",
       "      <td>82.0</td>\n",
       "      <td>90.000</td>\n",
       "      <td>100.0</td>\n",
       "      <td>250.690539</td>\n",
       "      <td>97.0</td>\n",
       "      <td>1997</td>\n",
       "      <td>2.0</td>\n",
       "      <td>1</td>\n",
       "    </tr>\n",
       "    <tr>\n",
       "      <th>102</th>\n",
       "      <td>103.0</td>\n",
       "      <td>73.000</td>\n",
       "      <td>122.0</td>\n",
       "      <td>229.086679</td>\n",
       "      <td>129.0</td>\n",
       "      <td>1997</td>\n",
       "      <td>3.0</td>\n",
       "      <td>1</td>\n",
       "    </tr>\n",
       "    <tr>\n",
       "      <th>104</th>\n",
       "      <td>199.0</td>\n",
       "      <td>85.000</td>\n",
       "      <td>235.0</td>\n",
       "      <td>172.956409</td>\n",
       "      <td>124.0</td>\n",
       "      <td>1997</td>\n",
       "      <td>5.0</td>\n",
       "      <td>0</td>\n",
       "    </tr>\n",
       "    <tr>\n",
       "      <th>110</th>\n",
       "      <td>111.0</td>\n",
       "      <td>125.000</td>\n",
       "      <td>560.0</td>\n",
       "      <td>107.325195</td>\n",
       "      <td>125.0</td>\n",
       "      <td>1997</td>\n",
       "      <td>12.0</td>\n",
       "      <td>0</td>\n",
       "    </tr>\n",
       "    <tr>\n",
       "      <th>112</th>\n",
       "      <td>198.0</td>\n",
       "      <td>24.000</td>\n",
       "      <td>617.0</td>\n",
       "      <td>101.363301</td>\n",
       "      <td>120.0</td>\n",
       "      <td>1997</td>\n",
       "      <td>14.0</td>\n",
       "      <td>0</td>\n",
       "    </tr>\n",
       "    <tr>\n",
       "      <th>115</th>\n",
       "      <td>8.0</td>\n",
       "      <td>85.000</td>\n",
       "      <td>650.0</td>\n",
       "      <td>99.112101</td>\n",
       "      <td>92.0</td>\n",
       "      <td>1997</td>\n",
       "      <td>17.0</td>\n",
       "      <td>0</td>\n",
       "    </tr>\n",
       "    <tr>\n",
       "      <th>197</th>\n",
       "      <td>123.0</td>\n",
       "      <td>70.000</td>\n",
       "      <td>142.0</td>\n",
       "      <td>216.540909</td>\n",
       "      <td>170.0</td>\n",
       "      <td>1998</td>\n",
       "      <td>1.0</td>\n",
       "      <td>1</td>\n",
       "    </tr>\n",
       "    <tr>\n",
       "      <th>198</th>\n",
       "      <td>147.0</td>\n",
       "      <td>140.000</td>\n",
       "      <td>166.0</td>\n",
       "      <td>201.578182</td>\n",
       "      <td>144.0</td>\n",
       "      <td>1998</td>\n",
       "      <td>2.0</td>\n",
       "      <td>0</td>\n",
       "    </tr>\n",
       "    <tr>\n",
       "      <th>200</th>\n",
       "      <td>7.0</td>\n",
       "      <td>120.000</td>\n",
       "      <td>265.0</td>\n",
       "      <td>162.798565</td>\n",
       "      <td>96.0</td>\n",
       "      <td>1998</td>\n",
       "      <td>4.0</td>\n",
       "      <td>0</td>\n",
       "    </tr>\n",
       "    <tr>\n",
       "      <th>201</th>\n",
       "      <td>116.0</td>\n",
       "      <td>23.000</td>\n",
       "      <td>267.0</td>\n",
       "      <td>161.491646</td>\n",
       "      <td>90.0</td>\n",
       "      <td>1998</td>\n",
       "      <td>5.0</td>\n",
       "      <td>0</td>\n",
       "    </tr>\n",
       "    <tr>\n",
       "      <th>205</th>\n",
       "      <td>163.0</td>\n",
       "      <td>130.000</td>\n",
       "      <td>363.0</td>\n",
       "      <td>136.314294</td>\n",
       "      <td>140.0</td>\n",
       "      <td>1998</td>\n",
       "      <td>9.0</td>\n",
       "      <td>0</td>\n",
       "    </tr>\n",
       "    <tr>\n",
       "      <th>255</th>\n",
       "      <td>112.0</td>\n",
       "      <td>52.000</td>\n",
       "      <td>2087.0</td>\n",
       "      <td>36.400491</td>\n",
       "      <td>170.0</td>\n",
       "      <td>1998</td>\n",
       "      <td>59.0</td>\n",
       "      <td>1</td>\n",
       "    </tr>\n",
       "    <tr>\n",
       "      <th>295</th>\n",
       "      <td>67.0</td>\n",
       "      <td>40.000</td>\n",
       "      <td>65.0</td>\n",
       "      <td>293.506292</td>\n",
       "      <td>107.0</td>\n",
       "      <td>1999</td>\n",
       "      <td>2.0</td>\n",
       "      <td>1</td>\n",
       "    </tr>\n",
       "    <tr>\n",
       "      <th>296</th>\n",
       "      <td>114.0</td>\n",
       "      <td>90.000</td>\n",
       "      <td>103.0</td>\n",
       "      <td>245.852179</td>\n",
       "      <td>92.0</td>\n",
       "      <td>1999</td>\n",
       "      <td>3.0</td>\n",
       "      <td>0</td>\n",
       "    </tr>\n",
       "    <tr>\n",
       "      <th>297</th>\n",
       "      <td>170.0</td>\n",
       "      <td>33.000</td>\n",
       "      <td>160.0</td>\n",
       "      <td>206.040086</td>\n",
       "      <td>95.0</td>\n",
       "      <td>1999</td>\n",
       "      <td>4.0</td>\n",
       "      <td>0</td>\n",
       "    </tr>\n",
       "    <tr>\n",
       "      <th>300</th>\n",
       "      <td>194.0</td>\n",
       "      <td>34.200</td>\n",
       "      <td>260.0</td>\n",
       "      <td>163.479795</td>\n",
       "      <td>93.0</td>\n",
       "      <td>1999</td>\n",
       "      <td>7.0</td>\n",
       "      <td>0</td>\n",
       "    </tr>\n",
       "    <tr>\n",
       "      <th>303</th>\n",
       "      <td>98.0</td>\n",
       "      <td>0.060</td>\n",
       "      <td>342.0</td>\n",
       "      <td>140.539099</td>\n",
       "      <td>86.0</td>\n",
       "      <td>1999</td>\n",
       "      <td>10.0</td>\n",
       "      <td>0</td>\n",
       "    </tr>\n",
       "    <tr>\n",
       "      <th>306</th>\n",
       "      <td>111.0</td>\n",
       "      <td>15.000</td>\n",
       "      <td>402.0</td>\n",
       "      <td>130.096601</td>\n",
       "      <td>122.0</td>\n",
       "      <td>1999</td>\n",
       "      <td>13.0</td>\n",
       "      <td>0</td>\n",
       "    </tr>\n",
       "    <tr>\n",
       "      <th>394</th>\n",
       "      <td>111.0</td>\n",
       "      <td>123.000</td>\n",
       "      <td>87.0</td>\n",
       "      <td>260.044825</td>\n",
       "      <td>104.0</td>\n",
       "      <td>2000</td>\n",
       "      <td>1.0</td>\n",
       "      <td>0</td>\n",
       "    </tr>\n",
       "    <tr>\n",
       "      <th>395</th>\n",
       "      <td>158.0</td>\n",
       "      <td>90.000</td>\n",
       "      <td>120.0</td>\n",
       "      <td>233.632142</td>\n",
       "      <td>143.0</td>\n",
       "      <td>2000</td>\n",
       "      <td>2.0</td>\n",
       "      <td>1</td>\n",
       "    </tr>\n",
       "    <tr>\n",
       "      <th>396</th>\n",
       "      <td>175.0</td>\n",
       "      <td>125.000</td>\n",
       "      <td>145.0</td>\n",
       "      <td>215.409889</td>\n",
       "      <td>123.0</td>\n",
       "      <td>2000</td>\n",
       "      <td>3.0</td>\n",
       "      <td>1</td>\n",
       "    </tr>\n",
       "    <tr>\n",
       "      <th>401</th>\n",
       "      <td>94.0</td>\n",
       "      <td>75.000</td>\n",
       "      <td>276.0</td>\n",
       "      <td>157.299717</td>\n",
       "      <td>104.0</td>\n",
       "      <td>2000</td>\n",
       "      <td>8.0</td>\n",
       "      <td>0</td>\n",
       "    </tr>\n",
       "    <tr>\n",
       "      <th>402</th>\n",
       "      <td>196.0</td>\n",
       "      <td>19.000</td>\n",
       "      <td>277.0</td>\n",
       "      <td>157.019771</td>\n",
       "      <td>88.0</td>\n",
       "      <td>2000</td>\n",
       "      <td>9.0</td>\n",
       "      <td>0</td>\n",
       "    </tr>\n",
       "    <tr>\n",
       "      <th>436</th>\n",
       "      <td>149.0</td>\n",
       "      <td>80.000</td>\n",
       "      <td>1217.0</td>\n",
       "      <td>60.655420</td>\n",
       "      <td>75.0</td>\n",
       "      <td>2000</td>\n",
       "      <td>43.0</td>\n",
       "      <td>0</td>\n",
       "    </tr>\n",
       "    <tr>\n",
       "      <th>...</th>\n",
       "      <td>...</td>\n",
       "      <td>...</td>\n",
       "      <td>...</td>\n",
       "      <td>...</td>\n",
       "      <td>...</td>\n",
       "      <td>...</td>\n",
       "      <td>...</td>\n",
       "      <td>...</td>\n",
       "    </tr>\n",
       "    <tr>\n",
       "      <th>1198</th>\n",
       "      <td>165.0</td>\n",
       "      <td>37.000</td>\n",
       "      <td>181.0</td>\n",
       "      <td>192.769854</td>\n",
       "      <td>120.0</td>\n",
       "      <td>2008</td>\n",
       "      <td>7.0</td>\n",
       "      <td>0</td>\n",
       "    </tr>\n",
       "    <tr>\n",
       "      <th>1200</th>\n",
       "      <td>187.0</td>\n",
       "      <td>200.000</td>\n",
       "      <td>246.0</td>\n",
       "      <td>168.368427</td>\n",
       "      <td>106.0</td>\n",
       "      <td>2008</td>\n",
       "      <td>9.0</td>\n",
       "      <td>0</td>\n",
       "    </tr>\n",
       "    <tr>\n",
       "      <th>1203</th>\n",
       "      <td>178.0</td>\n",
       "      <td>33.000</td>\n",
       "      <td>313.0</td>\n",
       "      <td>148.095302</td>\n",
       "      <td>116.0</td>\n",
       "      <td>2008</td>\n",
       "      <td>12.0</td>\n",
       "      <td>0</td>\n",
       "    </tr>\n",
       "    <tr>\n",
       "      <th>1290</th>\n",
       "      <td>83.0</td>\n",
       "      <td>32.000</td>\n",
       "      <td>2534.0</td>\n",
       "      <td>28.644813</td>\n",
       "      <td>137.0</td>\n",
       "      <td>2008</td>\n",
       "      <td>100.0</td>\n",
       "      <td>1</td>\n",
       "    </tr>\n",
       "    <tr>\n",
       "      <th>1292</th>\n",
       "      <td>84.0</td>\n",
       "      <td>200.000</td>\n",
       "      <td>23.0</td>\n",
       "      <td>402.111870</td>\n",
       "      <td>144.0</td>\n",
       "      <td>2009</td>\n",
       "      <td>2.0</td>\n",
       "      <td>0</td>\n",
       "    </tr>\n",
       "    <tr>\n",
       "      <th>1293</th>\n",
       "      <td>171.0</td>\n",
       "      <td>250.000</td>\n",
       "      <td>61.0</td>\n",
       "      <td>301.959197</td>\n",
       "      <td>153.0</td>\n",
       "      <td>2009</td>\n",
       "      <td>3.0</td>\n",
       "      <td>0</td>\n",
       "    </tr>\n",
       "    <tr>\n",
       "      <th>1294</th>\n",
       "      <td>189.0</td>\n",
       "      <td>50.000</td>\n",
       "      <td>63.0</td>\n",
       "      <td>296.623634</td>\n",
       "      <td>130.0</td>\n",
       "      <td>2009</td>\n",
       "      <td>4.0</td>\n",
       "      <td>0</td>\n",
       "    </tr>\n",
       "    <tr>\n",
       "      <th>1295</th>\n",
       "      <td>185.0</td>\n",
       "      <td>175.000</td>\n",
       "      <td>66.0</td>\n",
       "      <td>293.004164</td>\n",
       "      <td>96.0</td>\n",
       "      <td>2009</td>\n",
       "      <td>5.0</td>\n",
       "      <td>0</td>\n",
       "    </tr>\n",
       "    <tr>\n",
       "      <th>1303</th>\n",
       "      <td>170.0</td>\n",
       "      <td>150.000</td>\n",
       "      <td>214.0</td>\n",
       "      <td>179.883157</td>\n",
       "      <td>107.0</td>\n",
       "      <td>2009</td>\n",
       "      <td>13.0</td>\n",
       "      <td>0</td>\n",
       "    </tr>\n",
       "    <tr>\n",
       "      <th>1307</th>\n",
       "      <td>178.0</td>\n",
       "      <td>85.000</td>\n",
       "      <td>285.0</td>\n",
       "      <td>155.064265</td>\n",
       "      <td>99.0</td>\n",
       "      <td>2009</td>\n",
       "      <td>17.0</td>\n",
       "      <td>0</td>\n",
       "    </tr>\n",
       "    <tr>\n",
       "      <th>1320</th>\n",
       "      <td>132.0</td>\n",
       "      <td>0.015</td>\n",
       "      <td>556.0</td>\n",
       "      <td>107.918810</td>\n",
       "      <td>99.0</td>\n",
       "      <td>2009</td>\n",
       "      <td>30.0</td>\n",
       "      <td>0</td>\n",
       "    </tr>\n",
       "    <tr>\n",
       "      <th>1322</th>\n",
       "      <td>5.0</td>\n",
       "      <td>105.000</td>\n",
       "      <td>583.0</td>\n",
       "      <td>104.400899</td>\n",
       "      <td>95.0</td>\n",
       "      <td>2009</td>\n",
       "      <td>32.0</td>\n",
       "      <td>0</td>\n",
       "    </tr>\n",
       "    <tr>\n",
       "      <th>1328</th>\n",
       "      <td>50.0</td>\n",
       "      <td>25.000</td>\n",
       "      <td>791.0</td>\n",
       "      <td>83.823381</td>\n",
       "      <td>109.0</td>\n",
       "      <td>2009</td>\n",
       "      <td>38.0</td>\n",
       "      <td>0</td>\n",
       "    </tr>\n",
       "    <tr>\n",
       "      <th>1355</th>\n",
       "      <td>28.0</td>\n",
       "      <td>10.000</td>\n",
       "      <td>1609.0</td>\n",
       "      <td>47.566524</td>\n",
       "      <td>109.0</td>\n",
       "      <td>2009</td>\n",
       "      <td>65.0</td>\n",
       "      <td>0</td>\n",
       "    </tr>\n",
       "    <tr>\n",
       "      <th>1895</th>\n",
       "      <td>168.0</td>\n",
       "      <td>160.000</td>\n",
       "      <td>76.0</td>\n",
       "      <td>281.723902</td>\n",
       "      <td>137.0</td>\n",
       "      <td>2015</td>\n",
       "      <td>8.0</td>\n",
       "      <td>1</td>\n",
       "    </tr>\n",
       "    <tr>\n",
       "      <th>1901</th>\n",
       "      <td>25.0</td>\n",
       "      <td>135.000</td>\n",
       "      <td>200.0</td>\n",
       "      <td>183.637894</td>\n",
       "      <td>151.0</td>\n",
       "      <td>2015</td>\n",
       "      <td>13.0</td>\n",
       "      <td>0</td>\n",
       "    </tr>\n",
       "    <tr>\n",
       "      <th>1932</th>\n",
       "      <td>153.0</td>\n",
       "      <td>28.000</td>\n",
       "      <td>1021.0</td>\n",
       "      <td>70.259870</td>\n",
       "      <td>130.0</td>\n",
       "      <td>2015</td>\n",
       "      <td>39.0</td>\n",
       "      <td>0</td>\n",
       "    </tr>\n",
       "    <tr>\n",
       "      <th>1942</th>\n",
       "      <td>167.0</td>\n",
       "      <td>44.000</td>\n",
       "      <td>1393.0</td>\n",
       "      <td>54.117416</td>\n",
       "      <td>167.0</td>\n",
       "      <td>2015</td>\n",
       "      <td>55.0</td>\n",
       "      <td>0</td>\n",
       "    </tr>\n",
       "    <tr>\n",
       "      <th>1948</th>\n",
       "      <td>71.0</td>\n",
       "      <td>30.000</td>\n",
       "      <td>1636.0</td>\n",
       "      <td>46.889293</td>\n",
       "      <td>121.0</td>\n",
       "      <td>2015</td>\n",
       "      <td>63.0</td>\n",
       "      <td>0</td>\n",
       "    </tr>\n",
       "    <tr>\n",
       "      <th>1990</th>\n",
       "      <td>119.0</td>\n",
       "      <td>250.000</td>\n",
       "      <td>20.0</td>\n",
       "      <td>406.573683</td>\n",
       "      <td>147.0</td>\n",
       "      <td>2016</td>\n",
       "      <td>3.0</td>\n",
       "      <td>0</td>\n",
       "    </tr>\n",
       "    <tr>\n",
       "      <th>1991</th>\n",
       "      <td>152.0</td>\n",
       "      <td>58.000</td>\n",
       "      <td>32.0</td>\n",
       "      <td>363.070709</td>\n",
       "      <td>106.0</td>\n",
       "      <td>2016</td>\n",
       "      <td>4.0</td>\n",
       "      <td>0</td>\n",
       "    </tr>\n",
       "    <tr>\n",
       "      <th>1992</th>\n",
       "      <td>162.0</td>\n",
       "      <td>175.000</td>\n",
       "      <td>33.0</td>\n",
       "      <td>360.852718</td>\n",
       "      <td>105.0</td>\n",
       "      <td>2016</td>\n",
       "      <td>5.0</td>\n",
       "      <td>0</td>\n",
       "    </tr>\n",
       "    <tr>\n",
       "      <th>1994</th>\n",
       "      <td>191.0</td>\n",
       "      <td>250.000</td>\n",
       "      <td>45.0</td>\n",
       "      <td>330.360194</td>\n",
       "      <td>151.0</td>\n",
       "      <td>2016</td>\n",
       "      <td>7.0</td>\n",
       "      <td>1</td>\n",
       "    </tr>\n",
       "    <tr>\n",
       "      <th>1995</th>\n",
       "      <td>184.0</td>\n",
       "      <td>75.000</td>\n",
       "      <td>162.0</td>\n",
       "      <td>203.426220</td>\n",
       "      <td>90.0</td>\n",
       "      <td>2016</td>\n",
       "      <td>10.0</td>\n",
       "      <td>0</td>\n",
       "    </tr>\n",
       "    <tr>\n",
       "      <th>2088</th>\n",
       "      <td>13.0</td>\n",
       "      <td>18.000</td>\n",
       "      <td>72.0</td>\n",
       "      <td>290.475067</td>\n",
       "      <td>129.0</td>\n",
       "      <td>1980</td>\n",
       "      <td>1.0</td>\n",
       "      <td>1</td>\n",
       "    </tr>\n",
       "    <tr>\n",
       "      <th>2089</th>\n",
       "      <td>18.0</td>\n",
       "      <td>115.000</td>\n",
       "      <td>7.0</td>\n",
       "      <td>474.544677</td>\n",
       "      <td>133.0</td>\n",
       "      <td>1999</td>\n",
       "      <td>1.0</td>\n",
       "      <td>1</td>\n",
       "    </tr>\n",
       "    <tr>\n",
       "      <th>2090</th>\n",
       "      <td>63.0</td>\n",
       "      <td>113.000</td>\n",
       "      <td>27.0</td>\n",
       "      <td>380.270577</td>\n",
       "      <td>146.0</td>\n",
       "      <td>2005</td>\n",
       "      <td>1.0</td>\n",
       "      <td>1</td>\n",
       "    </tr>\n",
       "    <tr>\n",
       "      <th>2093</th>\n",
       "      <td>91.0</td>\n",
       "      <td>115.000</td>\n",
       "      <td>54.0</td>\n",
       "      <td>310.676740</td>\n",
       "      <td>132.0</td>\n",
       "      <td>2002</td>\n",
       "      <td>3.0</td>\n",
       "      <td>1</td>\n",
       "    </tr>\n",
       "    <tr>\n",
       "      <th>2094</th>\n",
       "      <td>11.0</td>\n",
       "      <td>245.000</td>\n",
       "      <td>1.0</td>\n",
       "      <td>936.662225</td>\n",
       "      <td>136.0</td>\n",
       "      <td>2015</td>\n",
       "      <td>1.0</td>\n",
       "      <td>1</td>\n",
       "    </tr>\n",
       "    <tr>\n",
       "      <th>2096</th>\n",
       "      <td>16.0</td>\n",
       "      <td>32.500</td>\n",
       "      <td>56.0</td>\n",
       "      <td>309.306177</td>\n",
       "      <td>134.0</td>\n",
       "      <td>1983</td>\n",
       "      <td>1.0</td>\n",
       "      <td>1</td>\n",
       "    </tr>\n",
       "  </tbody>\n",
       "</table>\n",
       "<p>128 rows × 8 columns</p>\n",
       "</div>"
      ],
      "text/plain": [
       "      adj_rank   budget  domestic_rank  dom_total_gross  runtime  year  \\\n",
       "0         39.0   75.000           57.0       306.169268    153.0  1996   \n",
       "1         81.0   92.000          108.0       241.721524    113.0  1996   \n",
       "2        165.0   80.000          210.0       180.981856    110.0  1996   \n",
       "7        188.0   54.000          405.0       128.814019    103.0  1996   \n",
       "31       145.0   55.000         1536.0        50.047179    130.0  1996   \n",
       "100        5.0  200.000            3.0       658.672302    194.0  1997   \n",
       "101       82.0   90.000          100.0       250.690539     97.0  1997   \n",
       "102      103.0   73.000          122.0       229.086679    129.0  1997   \n",
       "104      199.0   85.000          235.0       172.956409    124.0  1997   \n",
       "110      111.0  125.000          560.0       107.325195    125.0  1997   \n",
       "112      198.0   24.000          617.0       101.363301    120.0  1997   \n",
       "115        8.0   85.000          650.0        99.112101     92.0  1997   \n",
       "197      123.0   70.000          142.0       216.540909    170.0  1998   \n",
       "198      147.0  140.000          166.0       201.578182    144.0  1998   \n",
       "200        7.0  120.000          265.0       162.798565     96.0  1998   \n",
       "201      116.0   23.000          267.0       161.491646     90.0  1998   \n",
       "205      163.0  130.000          363.0       136.314294    140.0  1998   \n",
       "255      112.0   52.000         2087.0        36.400491    170.0  1998   \n",
       "295       67.0   40.000           65.0       293.506292    107.0  1999   \n",
       "296      114.0   90.000          103.0       245.852179     92.0  1999   \n",
       "297      170.0   33.000          160.0       206.040086     95.0  1999   \n",
       "300      194.0   34.200          260.0       163.479795     93.0  1999   \n",
       "303       98.0    0.060          342.0       140.539099     86.0  1999   \n",
       "306      111.0   15.000          402.0       130.096601    122.0  1999   \n",
       "394      111.0  123.000           87.0       260.044825    104.0  2000   \n",
       "395      158.0   90.000          120.0       233.632142    143.0  2000   \n",
       "396      175.0  125.000          145.0       215.409889    123.0  2000   \n",
       "401       94.0   75.000          276.0       157.299717    104.0  2000   \n",
       "402      196.0   19.000          277.0       157.019771     88.0  2000   \n",
       "436      149.0   80.000         1217.0        60.655420     75.0  2000   \n",
       "...        ...      ...            ...              ...      ...   ...   \n",
       "1198     165.0   37.000          181.0       192.769854    120.0  2008   \n",
       "1200     187.0  200.000          246.0       168.368427    106.0  2008   \n",
       "1203     178.0   33.000          313.0       148.095302    116.0  2008   \n",
       "1290      83.0   32.000         2534.0        28.644813    137.0  2008   \n",
       "1292      84.0  200.000           23.0       402.111870    144.0  2009   \n",
       "1293     171.0  250.000           61.0       301.959197    153.0  2009   \n",
       "1294     189.0   50.000           63.0       296.623634    130.0  2009   \n",
       "1295     185.0  175.000           66.0       293.004164     96.0  2009   \n",
       "1303     170.0  150.000          214.0       179.883157    107.0  2009   \n",
       "1307     178.0   85.000          285.0       155.064265     99.0  2009   \n",
       "1320     132.0    0.015          556.0       107.918810     99.0  2009   \n",
       "1322       5.0  105.000          583.0       104.400899     95.0  2009   \n",
       "1328      50.0   25.000          791.0        83.823381    109.0  2009   \n",
       "1355      28.0   10.000         1609.0        47.566524    109.0  2009   \n",
       "1895     168.0  160.000           76.0       281.723902    137.0  2015   \n",
       "1901      25.0  135.000          200.0       183.637894    151.0  2015   \n",
       "1932     153.0   28.000         1021.0        70.259870    130.0  2015   \n",
       "1942     167.0   44.000         1393.0        54.117416    167.0  2015   \n",
       "1948      71.0   30.000         1636.0        46.889293    121.0  2015   \n",
       "1990     119.0  250.000           20.0       406.573683    147.0  2016   \n",
       "1991     152.0   58.000           32.0       363.070709    106.0  2016   \n",
       "1992     162.0  175.000           33.0       360.852718    105.0  2016   \n",
       "1994     191.0  250.000           45.0       330.360194    151.0  2016   \n",
       "1995     184.0   75.000          162.0       203.426220     90.0  2016   \n",
       "2088      13.0   18.000           72.0       290.475067    129.0  1980   \n",
       "2089      18.0  115.000            7.0       474.544677    133.0  1999   \n",
       "2090      63.0  113.000           27.0       380.270577    146.0  2005   \n",
       "2093      91.0  115.000           54.0       310.676740    132.0  2002   \n",
       "2094      11.0  245.000            1.0       936.662225    136.0  2015   \n",
       "2096      16.0   32.500           56.0       309.306177    134.0  1983   \n",
       "\n",
       "      yearly_rank  top_5  \n",
       "0             1.0      0  \n",
       "1             2.0      0  \n",
       "2             3.0      1  \n",
       "7             8.0      0  \n",
       "31           32.0      0  \n",
       "100           1.0      0  \n",
       "101           2.0      1  \n",
       "102           3.0      1  \n",
       "104           5.0      0  \n",
       "110          12.0      0  \n",
       "112          14.0      0  \n",
       "115          17.0      0  \n",
       "197           1.0      1  \n",
       "198           2.0      0  \n",
       "200           4.0      0  \n",
       "201           5.0      0  \n",
       "205           9.0      0  \n",
       "255          59.0      1  \n",
       "295           2.0      1  \n",
       "296           3.0      0  \n",
       "297           4.0      0  \n",
       "300           7.0      0  \n",
       "303          10.0      0  \n",
       "306          13.0      0  \n",
       "394           1.0      0  \n",
       "395           2.0      1  \n",
       "396           3.0      1  \n",
       "401           8.0      0  \n",
       "402           9.0      0  \n",
       "436          43.0      0  \n",
       "...           ...    ...  \n",
       "1198          7.0      0  \n",
       "1200          9.0      0  \n",
       "1203         12.0      0  \n",
       "1290        100.0      1  \n",
       "1292          2.0      0  \n",
       "1293          3.0      0  \n",
       "1294          4.0      0  \n",
       "1295          5.0      0  \n",
       "1303         13.0      0  \n",
       "1307         17.0      0  \n",
       "1320         30.0      0  \n",
       "1322         32.0      0  \n",
       "1328         38.0      0  \n",
       "1355         65.0      0  \n",
       "1895          8.0      1  \n",
       "1901         13.0      0  \n",
       "1932         39.0      0  \n",
       "1942         55.0      0  \n",
       "1948         63.0      0  \n",
       "1990          3.0      0  \n",
       "1991          4.0      0  \n",
       "1992          5.0      0  \n",
       "1994          7.0      1  \n",
       "1995         10.0      0  \n",
       "2088          1.0      1  \n",
       "2089          1.0      1  \n",
       "2090          1.0      1  \n",
       "2093          3.0      1  \n",
       "2094          1.0      1  \n",
       "2096          1.0      1  \n",
       "\n",
       "[128 rows x 8 columns]"
      ]
     },
     "execution_count": 5,
     "metadata": {},
     "output_type": "execute_result"
    }
   ],
   "source": [
    "#Creating Data Set with adjusted Rank\n",
    "df = full_df.drop('composer', axis=1).drop('movie_title', axis=1)\n",
    "df_adj = df.dropna()\n",
    "df_adj"
   ]
  },
  {
   "cell_type": "markdown",
   "metadata": {},
   "source": [
    "## Histograms of dataset"
   ]
  },
  {
   "cell_type": "code",
   "execution_count": 68,
   "metadata": {
    "collapsed": false
   },
   "outputs": [
    {
     "data": {
      "image/png": "[encoded data removed]",
      "text/plain": [
       "<matplotlib.figure.Figure at 0x11dc5cb38>"
      ]
     },
     "metadata": {},
     "output_type": "display_data"
    }
   ],
   "source": [
    "#Budget vs Adjusted Rank\n",
    "plt.figure(figsize=(6,6))\n",
    "plt.scatter(full_df.budget, full_df.adj_rank, alpha=.3)\n",
    "plt.title('Budget vs Adjusted Rank')\n",
    "plt.xlabel('Budget (Millions)')\n",
    "plt.ylabel('Rank')\n",
    "plt.xlim([-10,350])\n",
    "plt.ylim([-10,225])\n",
    "plt.show()"
   ]
  },
  {
   "cell_type": "code",
   "execution_count": null,
   "metadata": {
    "collapsed": true
   },
   "outputs": [],
   "source": []
  },
  {
   "cell_type": "code",
   "execution_count": 64,
   "metadata": {
    "collapsed": false
   },
   "outputs": [
    {
     "data": {
      "image/png": "[encoded data removed]",
      "text/plain": [
       "<matplotlib.figure.Figure at 0x11db3e2e8>"
      ]
     },
     "metadata": {},
     "output_type": "display_data"
    }
   ],
   "source": [
    "#Budget vs Total Gross\n",
    "plt.figure(figsize=(6,6))\n",
    "plt.scatter(full_df.budget,full_df.dom_total_gross, alpha=.3)\n",
    "plt.title('Budget vs Total Domestic Gross')\n",
    "plt.xlabel('Budget (Millions)')\n",
    "plt.ylabel('Domestic Total Gross (Millions)')\n",
    "plt.xlim([-10,325])\n",
    "plt.ylim([-10,600])\n",
    "plt.show()"
   ]
  },
  {
   "cell_type": "code",
   "execution_count": 69,
   "metadata": {
    "collapsed": false
   },
   "outputs": [
    {
     "data": {
      "text/plain": [
       "<matplotlib.text.Text at 0x11dfeb6d8>"
      ]
     },
     "execution_count": 69,
     "metadata": {},
     "output_type": "execute_result"
    },
    {
     "data": {
      "image/png": "[encoded data removed]",
      "text/plain": [
       "<matplotlib.figure.Figure at 0x11e2956d8>"
      ]
     },
     "metadata": {},
     "output_type": "display_data"
    }
   ],
   "source": [
    "#Top 5 Composers vs Budget\n",
    "plt.figure(figsize=(6,6))\n",
    "plt.scatter(full_df.top_5, full_df.budget, alpha=.3)\n",
    "plt.title('Top 5 Composers vs Budget')\n",
    "plt.xlabel('Top 5 Composer')\n",
    "plt.ylabel('Budget (Millions)')"
   ]
  },
  {
   "cell_type": "code",
   "execution_count": 9,
   "metadata": {
    "collapsed": false
   },
   "outputs": [
    {
     "data": {
      "text/plain": [
       "<matplotlib.text.Text at 0x119c41cc0>"
      ]
     },
     "execution_count": 9,
     "metadata": {},
     "output_type": "execute_result"
    },
    {
     "data": {
      "image/png": "[encoded data removed]",
      "text/plain": [
       "<matplotlib.figure.Figure at 0x11c4c2f28>"
      ]
     },
     "metadata": {},
     "output_type": "display_data"
    }
   ],
   "source": [
    "#Top 5 Composers vs Adjusted Rank\n",
    "plt.scatter(full_df.top_5, full_df.adj_rank, alpha=.3)\n",
    "plt.title('Top 5 Composers vs Adjusted Rank')\n",
    "plt.xlabel('Top 5 Composer')\n",
    "plt.ylabel('Adjusted Rank')"
   ]
  },
  {
   "cell_type": "code",
   "execution_count": 10,
   "metadata": {
    "collapsed": false
   },
   "outputs": [
    {
     "data": {
      "text/plain": [
       "<matplotlib.text.Text at 0x1199d8c88>"
      ]
     },
     "execution_count": 10,
     "metadata": {},
     "output_type": "execute_result"
    },
    {
     "data": {
      "image/png": "[encoded data removed]",
      "text/plain": [
       "<matplotlib.figure.Figure at 0x11c5e7dd8>"
      ]
     },
     "metadata": {},
     "output_type": "display_data"
    }
   ],
   "source": [
    "#Top 5 Composers vs Yearly Rank\n",
    "plt.scatter(full_df.top_5, full_df.yearly_rank, alpha=.3)\n",
    "plt.title('Composers vs Yearly Rank')\n",
    "plt.xlabel('Top 5 Composer')\n",
    "plt.ylabel('Yearly Rank')"
   ]
  },
  {
   "cell_type": "code",
   "execution_count": 11,
   "metadata": {
    "collapsed": false
   },
   "outputs": [
    {
     "data": {
      "text/plain": [
       "<matplotlib.text.Text at 0x11c687c88>"
      ]
     },
     "execution_count": 11,
     "metadata": {},
     "output_type": "execute_result"
    },
    {
     "data": {
      "image/png": "[encoded data removed]",
      "text/plain": [
       "<matplotlib.figure.Figure at 0x11c68ba90>"
      ]
     },
     "metadata": {},
     "output_type": "display_data"
    }
   ],
   "source": [
    "#Top 5 Composer vs Total Domestic Gross\n",
    "plt.scatter(full_df.top_5, full_df.dom_total_gross, alpha=.3)\n",
    "plt.title('Composers vs Total Domestic Gross')\n",
    "plt.xlabel('Top 5 Composer')\n",
    "plt.ylabel('Total Domestic Gross (Millions)')"
   ]
  },
  {
   "cell_type": "code",
   "execution_count": 12,
   "metadata": {
    "collapsed": false
   },
   "outputs": [
    {
     "data": {
      "text/plain": [
       "<matplotlib.text.Text at 0x11c6a7208>"
      ]
     },
     "execution_count": 12,
     "metadata": {},
     "output_type": "execute_result"
    },
    {
     "data": {
      "image/png": "[encoded data removed]",
      "text/plain": [
       "<matplotlib.figure.Figure at 0x11c8d3550>"
      ]
     },
     "metadata": {},
     "output_type": "display_data"
    }
   ],
   "source": [
    "#Top 5 Composer vs Runtime\n",
    "plt.scatter(full_df.top_5, full_df.runtime, alpha=.3)\n",
    "plt.title('Composers vs Runtime')\n",
    "plt.xlabel('Top 5 Composer')\n",
    "plt.ylabel('Runtime (Min)')"
   ]
  },
  {
   "cell_type": "markdown",
   "metadata": {},
   "source": [
    "## Analysis using Adjusted Rank as y value"
   ]
  },
  {
   "cell_type": "code",
   "execution_count": 13,
   "metadata": {
    "collapsed": false
   },
   "outputs": [],
   "source": [
    "#Using Adjusted Rank as y\n",
    "X, y = df_adj.drop('adj_rank', axis=1),df_adj['adj_rank']\n",
    "\n",
    "#Split the data into a train and est set (30% test)\n",
    "X_train, X_test, y_train, y_test = train_test_split(\n",
    "    X, y, test_size=0.30, random_state=42)"
   ]
  },
  {
   "cell_type": "code",
   "execution_count": 14,
   "metadata": {
    "collapsed": true
   },
   "outputs": [],
   "source": [
    "#Testing Different Models\n",
    "models = {}\n",
    "models['lin_reg'] = linear_model.LinearRegression()\n",
    "models['ridge'] = linear_model.Ridge()\n",
    "models['lasso'] = linear_model.Lasso()\n",
    "models['elasticnet'] = linear_model.ElasticNet()"
   ]
  },
  {
   "cell_type": "code",
   "execution_count": 15,
   "metadata": {
    "collapsed": false
   },
   "outputs": [
    {
     "name": "stdout",
     "output_type": "stream",
     "text": [
      "Model: lin_reg\n",
      "Score: 0.0452978372737\n",
      "('top_5', -4.5614203829698035)\n",
      "('year', 3.3064532189004026)\n",
      "('yearly_rank', -3.0211957734371793)\n",
      "('runtime', -0.27116295163991438)\n",
      "('dom_total_gross', -0.21918275111109087)\n",
      "('domestic_rank', 0.073440247090383742)\n",
      "('budget', 0.045055690575781883)\n",
      "\n",
      "Model: lasso\n",
      "Score: 0.0541258340072\n",
      "('year', 3.3285233021223029)\n",
      "('yearly_rank', -2.9546115203530929)\n",
      "('runtime', -0.28527289711838694)\n",
      "('dom_total_gross', -0.21939750245468231)\n",
      "('domestic_rank', 0.071239826430689504)\n",
      "('budget', 0.041731931398470187)\n",
      "('top_5', -0.0)\n",
      "\n",
      "Model: elasticnet\n",
      "Score: 0.053450061165\n",
      "('year', 3.2115263468005706)\n",
      "('yearly_rank', -2.8054026965631853)\n",
      "('top_5', -0.59905054255822865)\n",
      "('runtime', -0.28349640801108722)\n",
      "('dom_total_gross', -0.22013252074375847)\n",
      "('domestic_rank', 0.066333726245251204)\n",
      "('budget', 0.047746764759449833)\n",
      "\n",
      "Model: ridge\n",
      "Score: 0.0458450499839\n",
      "('top_5', -4.3002976130526909)\n",
      "('year', 3.3097562344208096)\n",
      "('yearly_rank', -3.0207038979107059)\n",
      "('runtime', -0.27212496208797343)\n",
      "('dom_total_gross', -0.21918336920248582)\n",
      "('domestic_rank', 0.073426671105359095)\n",
      "('budget', 0.044811302281947754)\n",
      "\n"
     ]
    }
   ],
   "source": [
    "for name,model in models.items():\n",
    "    model.fit(X_train,y_train)\n",
    "    print('Model: '+name)\n",
    "    print(\"Score: \" + str(model.score(X_test,y_test)))\n",
    "    sorted_features = sorted(zip(X.columns.values,model.coef_), key=lambda tup: abs(tup[1]), reverse=True)\n",
    "    for feature in sorted_features:\n",
    "        print(feature)\n",
    "        \n",
    "    print(\"\")"
   ]
  },
  {
   "cell_type": "markdown",
   "metadata": {},
   "source": [
    "Since adjusted rank as target yielded incredibly low scores, most likely due to the small amount of data available, moved on to Total Domestic Gross as target"
   ]
  },
  {
   "cell_type": "markdown",
   "metadata": {},
   "source": [
    "## Creating Data Set with Total Domestic Gross as Target"
   ]
  },
  {
   "cell_type": "code",
   "execution_count": 16,
   "metadata": {
    "collapsed": false
   },
   "outputs": [
    {
     "name": "stdout",
     "output_type": "stream",
     "text": [
      "<class 'pandas.core.frame.DataFrame'>\n",
      "Int64Index: 1122 entries, 0 to 2096\n",
      "Data columns (total 7 columns):\n",
      "budget             1122 non-null float64\n",
      "domestic_rank      1122 non-null float64\n",
      "dom_total_gross    1122 non-null float64\n",
      "runtime            1122 non-null float64\n",
      "year               1122 non-null int64\n",
      "yearly_rank        1122 non-null float64\n",
      "top_5              1122 non-null int64\n",
      "dtypes: float64(5), int64(2)\n",
      "memory usage: 70.1 KB\n"
     ]
    }
   ],
   "source": [
    "#Creating Data Set without Adjusted Rank\n",
    "df = full_df.drop('composer', axis=1).drop('movie_title', axis=1).drop('adj_rank', axis=1)\n",
    "df_noadj = df.dropna()\n",
    "df_noadj.info()"
   ]
  },
  {
   "cell_type": "markdown",
   "metadata": {},
   "source": [
    "## Analyzing Total Domestic Gross"
   ]
  },
  {
   "cell_type": "code",
   "execution_count": 17,
   "metadata": {
    "collapsed": false
   },
   "outputs": [],
   "source": [
    "#Using Domestic Total Gross as y\n",
    "X, y = df_noadj.drop('dom_total_gross', axis=1).drop('yearly_rank', axis=1).drop('domestic_rank', axis=1),df_noadj['dom_total_gross']\n",
    "\n",
    "#Split the data into a train and est set (30% test)\n",
    "X_train, X_test, y_train, y_test = train_test_split(\n",
    "    X, y, test_size=0.30, random_state=42)"
   ]
  },
  {
   "cell_type": "code",
   "execution_count": 18,
   "metadata": {
    "collapsed": false
   },
   "outputs": [
    {
     "name": "stdout",
     "output_type": "stream",
     "text": [
      "For Domestic Total Gross\n",
      "\n",
      "Model: lin_reg\n",
      "Score: 0.269926085126\n",
      "('top_5', 28.022698143916021)\n",
      "('budget', 0.89366433208265428)\n",
      "('runtime', 0.32642467226550725)\n",
      "('year', 0.28257042981665692)\n",
      "\n",
      "Model: lasso\n",
      "Score: 0.272156242982\n",
      "('top_5', 17.088835030868466)\n",
      "('budget', 0.91508956078382875)\n",
      "('runtime', 0.33985367154032453)\n",
      "('year', 0.18162624495459825)\n",
      "\n",
      "Model: elasticnet\n",
      "Score: 0.266613351215\n",
      "('top_5', 3.4952320733672941)\n",
      "('budget', 0.94066198642671672)\n",
      "('runtime', 0.36083025981642225)\n",
      "('year', 0.12616183620874069)\n",
      "\n",
      "Model: ridge\n",
      "Score: 0.270096578902\n",
      "('top_5', 27.638527638834589)\n",
      "('budget', 0.89439806636580732)\n",
      "('runtime', 0.32698834428193346)\n",
      "('year', 0.28046936530611671)\n",
      "\n"
     ]
    }
   ],
   "source": [
    "#Regressions for Domestic Total Gross\n",
    "\n",
    "print(\"For Domestic Total Gross\\n\")\n",
    "\n",
    "for name,model in models.items():\n",
    "    model.fit(X_train,y_train)\n",
    "    print('Model: '+name)\n",
    "    print(\"Score: \" + str(model.score(X_test,y_test)))\n",
    "    sorted_features = sorted(zip(X.columns.values,model.coef_), key=lambda tup: abs(tup[1]), reverse=True)\n",
    "    for feature in sorted_features:\n",
    "        print(feature)\n",
    "        \n",
    "    print(\"\")"
   ]
  },
  {
   "cell_type": "code",
   "execution_count": 72,
   "metadata": {
    "collapsed": false
   },
   "outputs": [],
   "source": [
    "linear = linear_model.LinearRegression()"
   ]
  },
  {
   "cell_type": "code",
   "execution_count": 74,
   "metadata": {
    "collapsed": false
   },
   "outputs": [
    {
     "name": "stdout",
     "output_type": "stream",
     "text": [
      "model: linear\n",
      "Scores: [ 0.38683666  0.31703647  0.29972523  0.36349549  0.3131746 ]\n",
      "Average Score: 0.336053692119\n"
     ]
    }
   ],
   "source": [
    "shuffler = cross_validation.ShuffleSplit(len(X_train), n_iter=5, test_size=.2, random_state = 40)\n",
    "\n",
    "score = cross_validation.cross_val_score(linear, X_train, y_train, n_jobs=1, cv=shuffler)\n",
    "results = linear.fit(X_train, y_train)\n",
    "\n",
    "print('model: linear')\n",
    "print('Scores: ' + str(score))\n",
    "print('Average Score: ' + str(np.mean(score)))"
   ]
  },
  {
   "cell_type": "code",
   "execution_count": 77,
   "metadata": {
    "collapsed": false
   },
   "outputs": [
    {
     "data": {
      "text/plain": [
       "array([  0.89366433,   0.32642467,   0.28257043,  28.02269814])"
      ]
     },
     "execution_count": 77,
     "metadata": {},
     "output_type": "execute_result"
    }
   ],
   "source": [
    "results.coef_"
   ]
  },
  {
   "cell_type": "code",
   "execution_count": 70,
   "metadata": {
    "collapsed": false
   },
   "outputs": [
    {
     "data": {
      "text/plain": [
       "(0, 500)"
      ]
     },
     "execution_count": 70,
     "metadata": {},
     "output_type": "execute_result"
    },
    {
     "data": {
      "image/png": "[encoded data removed]",
      "text/plain": [
       "<matplotlib.figure.Figure at 0x11f3ba2e8>"
      ]
     },
     "metadata": {},
     "output_type": "display_data"
    }
   ],
   "source": [
    "y_predict = linear.predict(X_test)\n",
    "\n",
    "plt.figure(figsize=(8,8))\n",
    "plt.scatter(y_predict, y_test, alpha = 0.3)\n",
    "straight = np.linspace(0,500,10)\n",
    "plt.plot(straight,straight)\n",
    "plt.xlabel('Predicted Value')\n",
    "plt.ylabel('Actual Value')\n",
    "plt.title('Predicted vs Actual Values')\n",
    "plt.xlim([0,500])\n",
    "plt.ylim([0,500])"
   ]
  },
  {
   "cell_type": "markdown",
   "metadata": {},
   "source": [
    "## Trying Lasso and Ridge"
   ]
  },
  {
   "cell_type": "code",
   "execution_count": 21,
   "metadata": {
    "collapsed": false
   },
   "outputs": [
    {
     "name": "stdout",
     "output_type": "stream",
     "text": [
      "model: lasso\n",
      "Scores: [ 0.30644945  0.2478431   0.38573392  0.32788813  0.28884142]\n",
      "Average Score: 0.311351205101\n",
      "\n",
      "Best Model AFter GridSearch\n"
     ]
    },
    {
     "data": {
      "text/plain": [
       "{'alpha': 0.048939009184774937, 'normalize': True}"
      ]
     },
     "execution_count": 21,
     "metadata": {},
     "output_type": "execute_result"
    }
   ],
   "source": [
    "#Lasso\n",
    "\n",
    "lasso = linear_model.Lasso()\n",
    "\n",
    "shuffler = cross_validation.ShuffleSplit(len(X_train), n_iter=5, test_size=.2, random_state = 41)\n",
    "    \n",
    "score = cross_validation.cross_val_score(lasso, X_train, y_train, n_jobs=1, cv=shuffler)\n",
    "lasso.fit(X_train, y_train)\n",
    "\n",
    "print('model: lasso')\n",
    "print('Scores: ' + str(score))\n",
    "print('Average Score: ' + str(np.mean(score)))\n",
    "\n",
    "#Tune lambda(alpha)\n",
    "print('\\nBest Model AFter GridSearch')\n",
    "parameters = {'normalize':(True,False), 'alpha':np.logspace(-2,2,30)}\n",
    "grid_searcher = grid_search.GridSearchCV(lasso, parameters, cv = shuffler)\n",
    "grid_searcher.fit(X_train, y_train)\n",
    "grid_searcher.best_params_"
   ]
  },
  {
   "cell_type": "code",
   "execution_count": 22,
   "metadata": {
    "collapsed": false
   },
   "outputs": [
    {
     "data": {
      "text/plain": [
       "array([  8.82362537e-01,   2.80069557e-01,   1.23252567e-02,\n",
       "         2.46198141e+01])"
      ]
     },
     "execution_count": 22,
     "metadata": {},
     "output_type": "execute_result"
    }
   ],
   "source": [
    "best_model = grid_searcher.best_estimator_\n",
    "best_model.coef_"
   ]
  },
  {
   "cell_type": "code",
   "execution_count": 23,
   "metadata": {
    "collapsed": false
   },
   "outputs": [
    {
     "name": "stdout",
     "output_type": "stream",
     "text": [
      "model: ridge\n",
      "Scores: [ 0.3131888   0.25986629  0.3979683   0.33444461  0.2955287 ]\n",
      "Average Score: 0.320199340672\n",
      "\n",
      "Best Model AFter GridSearch\n"
     ]
    },
    {
     "data": {
      "text/plain": [
       "{'alpha': 0.12689610031679222, 'normalize': True}"
      ]
     },
     "execution_count": 23,
     "metadata": {},
     "output_type": "execute_result"
    }
   ],
   "source": [
    "#Ridge\n",
    "\n",
    "ridge = linear_model.Ridge()\n",
    "\n",
    "shuffler = cross_validation.ShuffleSplit(len(X_train), n_iter=5, test_size=.2, random_state = 41)\n",
    "    \n",
    "score = cross_validation.cross_val_score(ridge, X_train, y_train, n_jobs=1, cv=shuffler)\n",
    "ridge.fit(X_train, y_train)\n",
    "\n",
    "print('model: ridge')\n",
    "print('Scores: ' + str(score))\n",
    "print('Average Score: ' + str(np.mean(score)))\n",
    "\n",
    "#Tune lambda(alpha)\n",
    "print('\\nBest Model AFter GridSearch')\n",
    "parameters = {'normalize':(True,False), 'alpha':np.logspace(-2,2,30)}\n",
    "grid_searcher = grid_search.GridSearchCV(ridge, parameters, cv = shuffler)\n",
    "grid_searcher.fit(X_train, y_train)\n",
    "grid_searcher.best_params_"
   ]
  },
  {
   "cell_type": "code",
   "execution_count": 24,
   "metadata": {
    "collapsed": false
   },
   "outputs": [
    {
     "data": {
      "text/plain": [
       "array([  0.78525832,   0.36516295,   0.37183994,  28.72392502])"
      ]
     },
     "execution_count": 24,
     "metadata": {},
     "output_type": "execute_result"
    }
   ],
   "source": [
    "best_model = grid_searcher.best_estimator_\n",
    "best_model.coef_"
   ]
  },
  {
   "cell_type": "markdown",
   "metadata": {},
   "source": [
    "Best score was actually linear regression, so sticking with that!"
   ]
  }
 ],
 "metadata": {
  "kernelspec": {
   "display_name": "Python 3",
   "language": "python",
   "name": "python3"
  },
  "language_info": {
   "codemirror_mode": {
    "name": "ipython",
    "version": 3
   },
   "file_extension": ".py",
   "mimetype": "text/x-python",
   "name": "python",
   "nbconvert_exporter": "python",
   "pygments_lexer": "ipython3",
   "version": "3.5.2"
  }
 },
 "nbformat": 4,
 "nbformat_minor": 0
}
